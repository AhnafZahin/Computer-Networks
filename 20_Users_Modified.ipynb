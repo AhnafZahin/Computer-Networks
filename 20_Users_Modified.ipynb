{
  "cells": [
    {
      "cell_type": "markdown",
      "metadata": {
        "id": "view-in-github",
        "colab_type": "text"
      },
      "source": [
        "<a href=\"https://colab.research.google.com/github/AhnafZahin/Computer-Networks/blob/main/20_Users_Modified.ipynb\" target=\"_parent\"><img src=\"https://colab.research.google.com/assets/colab-badge.svg\" alt=\"Open In Colab\"/></a>"
      ]
    },
    {
      "cell_type": "code",
      "execution_count": null,
      "metadata": {
        "id": "L0ZJC345AmDL"
      },
      "outputs": [],
      "source": [
        "import scipy.io as sio\n",
        "import numpy as np\n",
        "\n",
        "import tensorflow.compat.v1 as tf\n",
        "import time"
      ]
    },
    {
      "cell_type": "code",
      "execution_count": null,
      "metadata": {
        "id": "sX3vv15aAmDO",
        "outputId": "8546583e-f28f-482c-8e1a-59748b24a9e2"
      },
      "outputs": [
        {
          "name": "stdout",
          "output_type": "stream",
          "text": [
            "WARNING:tensorflow:From /Users/atiab/Library/Python/3.9/lib/python/site-packages/tensorflow/python/compat/v2_compat.py:107: disable_resource_variables (from tensorflow.python.ops.variable_scope) is deprecated and will be removed in a future version.\n",
            "Instructions for updating:\n",
            "non-resource variables are not supported in the long term\n"
          ]
        }
      ],
      "source": [
        "tf.compat.v1.disable_eager_execution()\n",
        "tf.disable_v2_behavior()"
      ]
    },
    {
      "cell_type": "code",
      "execution_count": null,
      "metadata": {
        "id": "WrtAt_wMAmDO"
      },
      "outputs": [],
      "source": [
        "N = 20\n",
        "num_train = 100000\n",
        "num_test = 10000\n",
        "epochs = 100\n",
        "batch_size = 256\n",
        "learning_rate = 0.0001"
      ]
    },
    {
      "cell_type": "code",
      "execution_count": null,
      "metadata": {
        "id": "n678oRnRAmDP"
      },
      "outputs": [],
      "source": [
        "load = sio.loadmat('data/Train_data_%d_%d.mat' % (N, num_train))\n",
        "loadTest = sio.loadmat('data/Test_data_%d_%d.mat' % (N, num_test))"
      ]
    },
    {
      "cell_type": "code",
      "execution_count": null,
      "metadata": {
        "id": "2KqlHJxcAmDP"
      },
      "outputs": [],
      "source": [
        "Htrain = load['Xtrain']\n",
        "Ptrain = load['Ytrain']\n",
        "H_test = loadTest['X']\n",
        "P_test = loadTest['Y']\n",
        "timeW = loadTest['swmmsetime']\n",
        "swmmsetime = timeW[0, 0]"
      ]
    },
    {
      "cell_type": "code",
      "execution_count": null,
      "metadata": {
        "id": "_IxI0bN6AmDP"
      },
      "outputs": [],
      "source": [
        "weights = {\n",
        "    \"w_1\": tf.Variable(tf.random_normal([N * N, 100], stddev=0.1)),\n",
        "    \"w_2\": tf.Variable(tf.random_normal([100, 100], stddev=0.1)),\n",
        "    \"w_3\": tf.Variable(tf.random_normal([100, 100], stddev=0.1)),\n",
        "    \"w_4\": tf.Variable(tf.random_normal([100, 100], stddev=0.1)),\n",
        "    \"w_out\": tf.Variable(tf.random_normal([100, N])),\n",
        "}"
      ]
    },
    {
      "cell_type": "code",
      "execution_count": null,
      "metadata": {
        "id": "sk-y2HaFAmDP"
      },
      "outputs": [],
      "source": [
        "biases = {\n",
        "    \"b_1\": tf.Variable(tf.random_normal([100], stddev=0.1)),\n",
        "    \"b_2\": tf.Variable(tf.random_normal([100], stddev=0.1)),\n",
        "    \"b_3\": tf.Variable(tf.random_normal([100], stddev=0.1)),\n",
        "    \"b_4\": tf.Variable(tf.random_normal([100], stddev=0.1)),\n",
        "    \"b_out\": tf.Variable(tf.random_normal([N])),\n",
        "}"
      ]
    },
    {
      "cell_type": "code",
      "execution_count": null,
      "metadata": {
        "id": "b-IDgh9cAmDQ"
      },
      "outputs": [],
      "source": [
        "def network(input_data):\n",
        "    x = tf.nn.dropout(x, tf.placeholder(tf.float32))\n",
        "\n",
        "    conv1 = tf.nn.conv2d(input, weights['1_1'], strides=[1, 1, 1, 1], padding='SAME')\n",
        "    conv1 = tf.nn.bias_add(conv1, biases['b_1'])\n",
        "    relu1 = tf.nn.relu(conv1)\n",
        "\n",
        "    h_layer_1 = tf.add(\n",
        "        tf.matmul(input_data, weights[\"w_1\"]), biases[\"b_1\"]\n",
        "    )  # h1 = wx+b\n",
        "    h_layer_1 = tf.nn.relu(h_layer_1)\n",
        "\n",
        "    conv2 = tf.nn.conv2d(relu1, weights['w_2'], strides=[1, 1, 1, 1], padding='SAME')\n",
        "    conv2 = tf.nn.bias_add(conv2, biases['b_2'])\n",
        "    relu2 = tf.nn.relu(conv2)\n",
        "\n",
        "    h_layer_2 = tf.add(tf.matmul(h_layer_1, weights[\"w_2\"]), biases[\"b_1\"])\n",
        "    h_layer_2 = tf.nn.relu(h_layer_2)\n",
        "\n",
        "    conv3 = tf.nn.conv2d(relu2, weights['w_3'], strides=[1, 1, 1, 1], padding='SAME')\n",
        "    conv3 = tf.nn.bias_add(conv3, biases['b_3'])\n",
        "    relu3 = tf.nn.relu(conv3)\n",
        "\n",
        "    h_layer_3 = tf.add(tf.matmul(h_layer_2, weights[\"w_3\"]), biases[\"b_3\"])\n",
        "    h_layer_3 = tf.nn.relu(h_layer_3)\n",
        "\n",
        "    conv4 = tf.nn.conv2d(relu3, weights['w_4'], strides=[1, 1, 1, 1], padding='SAME')\n",
        "    conv4 = tf.nn.bias_add(conv4, biases['b_4'])\n",
        "    relu4 = tf.nn.relu(conv4)\n",
        "\n",
        "    output = tf.matmul(h_layer_3, weights[\"w_out\"]) + biases[\"b_out\"]\n",
        "    output = tf.nn.relu6(output) / 6\n",
        "\n",
        "    return output"
      ]
    },
    {
      "cell_type": "code",
      "execution_count": null,
      "metadata": {
        "id": "AhM7-ObtAmDQ"
      },
      "outputs": [],
      "source": [
        "valid_split = 0.1\n",
        "\n",
        "total_sample_size = num_train\n",
        "validation_sample_size = int(total_sample_size * valid_split)\n",
        "training_sample_size = total_sample_size - validation_sample_size"
      ]
    },
    {
      "cell_type": "code",
      "execution_count": null,
      "metadata": {
        "id": "w_49hke5AmDR"
      },
      "outputs": [],
      "source": [
        "Htrain = np.reshape(Htrain, (total_sample_size, N * N))\n",
        "number_input = N * N\n",
        "number_output = N\n",
        "\n",
        "H_train = Htrain[0:training_sample_size, :]\n",
        "P_train = Ptrain[0:training_sample_size, :]\n",
        "H_val = Htrain[training_sample_size:total_sample_size, :]\n",
        "P_val = Ptrain[training_sample_size:total_sample_size, :]"
      ]
    },
    {
      "cell_type": "code",
      "execution_count": null,
      "metadata": {
        "id": "B57gmmv5AmDR"
      },
      "outputs": [],
      "source": [
        "x = tf.placeholder(tf.float32, [None, N * N])\n",
        "y = tf.placeholder(tf.float32, [None, N])"
      ]
    },
    {
      "cell_type": "code",
      "execution_count": null,
      "metadata": {
        "id": "Z0P4sPaHAmDR"
      },
      "outputs": [],
      "source": [
        "total_batch = int(total_sample_size / batch_size)"
      ]
    },
    {
      "cell_type": "code",
      "execution_count": null,
      "metadata": {
        "id": "_mAPEdbrAmDR"
      },
      "outputs": [],
      "source": [
        "x_bar = network(x)\n",
        "loss = tf.reduce_mean(tf.square(x_bar - y))\n",
        "\n",
        "optimizer = tf.train.AdamOptimizer(learning_rate)\n",
        "objective = optimizer.minimize(loss)"
      ]
    },
    {
      "cell_type": "code",
      "execution_count": null,
      "metadata": {
        "id": "VqfJFoFPAmDR",
        "outputId": "724a4e8b-23cc-48e9-8179-99896e3d9fc3"
      },
      "outputs": [
        {
          "name": "stderr",
          "output_type": "stream",
          "text": [
            "2022-11-20 19:55:30.602274: I tensorflow/compiler/mlir/mlir_graph_optimization_pass.cc:354] MLIR V1 optimization pass is not enabled\n"
          ]
        }
      ],
      "source": [
        "save_data = np.zeros((epochs, 3))\n",
        "\n",
        "session = tf.InteractiveSession()\n",
        "tf.global_variables_initializer().run()"
      ]
    },
    {
      "cell_type": "code",
      "execution_count": null,
      "metadata": {
        "id": "H4JEPgHpAmDR",
        "outputId": "04144f48-dc22-42e1-b698-d32aacf50264"
      },
      "outputs": [
        {
          "name": "stdout",
          "output_type": "stream",
          "text": [
            "\n",
            " 0   0.193369   0.193388   0.724148 \n",
            "#\n",
            " 2   0.178167   0.182466   2.612148 \n",
            "#\n",
            " 4   0.168283   0.169085   4.413510 \n",
            "#\n",
            " 6   0.147266   0.147325   6.097864 \n",
            "#\n",
            " 8   0.125502   0.125987   7.681293 \n",
            "#\n",
            " 10   0.106254   0.110541   9.270905 \n",
            "#\n",
            " 12   0.099776   0.099318   10.893808 \n",
            "#\n",
            " 14   0.087340   0.090600   12.529215 \n",
            "#\n",
            " 16   0.082972   0.084384   14.123414 \n",
            "#\n",
            " 18   0.077907   0.079567   15.726479 \n",
            "#\n",
            " 20   0.074119   0.076026   17.337604 \n",
            "#\n",
            " 22   0.073220   0.073120   18.944866 \n",
            "#\n",
            " 24   0.068179   0.071055   20.556604 \n",
            "#\n",
            " 26   0.069384   0.069733   22.159957 \n",
            "#\n",
            " 28   0.068529   0.068964   23.766638 \n",
            "#\n",
            " 30   0.068913   0.068487   25.383892 \n",
            "#\n",
            " 32   0.066952   0.068108   27.006036 \n",
            "#\n",
            " 34   0.066961   0.067856   28.620933 \n",
            "#\n",
            " 36   0.064694   0.067817   30.248157 \n",
            "#\n",
            " 38   0.067426   0.067945   31.869401 \n",
            "#\n",
            " 40   0.067332   0.067804   33.496270 \n",
            "#\n",
            " 42   0.067227   0.067782   35.115693 \n",
            "#\n",
            " 44   0.063876   0.067459   36.747677 \n",
            "#\n",
            " 46   0.067328   0.067598   38.368460 \n",
            "#\n",
            " 48   0.063663   0.067371   39.995156 \n",
            "#\n",
            " 50   0.062945   0.067712   41.630302 \n",
            "#\n",
            " 52   0.064147   0.067651   43.275646 \n",
            "#\n",
            " 54   0.065255   0.067617   44.933255 \n",
            "#\n",
            " 56   0.066167   0.067606   46.565791 \n",
            "#\n",
            " 58   0.064462   0.067288   48.197063 \n",
            "#\n",
            " 60   0.066575   0.067597   49.857794 \n",
            "#\n",
            " 62   0.066639   0.067459   51.494813 \n",
            "#\n",
            " 64   0.065521   0.067462   53.138968 \n",
            "#\n",
            " 66   0.067041   0.067356   54.780002 \n",
            "#\n",
            " 68   0.069912   0.067454   56.427285 \n",
            "#\n",
            " 70   0.065173   0.067291   58.095880 \n",
            "#\n",
            " 72   0.066386   0.067406   59.742528 \n",
            "#\n",
            " 74   0.066894   0.067327   61.386138 \n",
            "#\n",
            " 76   0.063963   0.067411   63.030136 \n",
            "#\n",
            " 78   0.063417   0.067280   64.682455 \n",
            "#\n",
            " 80   0.064011   0.067275   66.325834 \n",
            "#\n",
            " 82   0.066825   0.067178   67.972075 \n",
            "#\n",
            " 84   0.066230   0.067286   69.619200 \n",
            "#\n",
            " 86   0.065722   0.067607   71.309236 \n",
            "#\n",
            " 88   0.069825   0.067325   72.962069 \n",
            "#\n",
            " 90   0.065713   0.067329   74.616924 \n",
            "#\n",
            " 92   0.060655   0.067368   76.282297 \n",
            "#\n",
            " 94   0.064018   0.067583   77.944086 \n",
            "#\n",
            " 96   0.065846   0.067383   79.725665 \n",
            "#\n",
            " 98   0.062726   0.067278   81.388539 \n",
            "#training time: 82.22 s\n"
          ]
        }
      ],
      "source": [
        "start_time = time.time()\n",
        "for e in range(epochs):\n",
        "    for b in range(total_batch):\n",
        "        batch = np.random.randint(training_sample_size, size=batch_size)\n",
        "        _, training_cost = session.run(\n",
        "            [objective, loss], feed_dict={x: H_train[batch, :], y: P_train[batch, :]}\n",
        "        )\n",
        "        save_data[e, 0] = training_cost\n",
        "    validation_cost = session.run(loss, feed_dict={x: H_val, y: P_val})\n",
        "    save_data[e, 1] = validation_cost\n",
        "    save_data[e, 2] = e\n",
        "    if e % 2 == 0:\n",
        "        print(\n",
        "            \"\\n %d \" % e,\n",
        "            \" %f \" % (training_cost),\n",
        "            \" %f \" % (validation_cost),\n",
        "            \" %f \" % (time.time() - start_time),\n",
        "        )\n",
        "    else:\n",
        "        print(\"#\", end=\"\")\n",
        "print(\"training time: %0.2f s\" % (time.time() - start_time))\n",
        "sio.savemat(\n",
        "    \"MSETime_%d_%d_%d\" % (N, batch_size, learning_rate * 10000),\n",
        "    {\"train\": save_data[:, 0], \"validation\": save_data[:, 1], \"epoch\": save_data[:, 2]},\n",
        ")"
      ]
    },
    {
      "cell_type": "code",
      "execution_count": null,
      "metadata": {
        "id": "bbdmGrXEAmDS",
        "outputId": "6e0ca6af-f3f2-4549-c1d0-ac5d6911c594"
      },
      "outputs": [
        {
          "name": "stdout",
          "output_type": "stream",
          "text": [
            "(10000, 20)\n"
          ]
        }
      ],
      "source": [
        "start_time = time.time()\n",
        "H_test_r = np.reshape(H_test, (num_test, N * N))\n",
        "predicted_power = session.run(x_bar, feed_dict={x: H_test_r, y: P_test})\n",
        "pred_time = time.time() - start_time\n",
        "print(predicted_power.shape)\n",
        "predicted_power = np.reshape(predicted_power, (num_test, N))\n"
      ]
    },
    {
      "cell_type": "code",
      "execution_count": null,
      "metadata": {
        "id": "pIG2tCQgAmDS"
      },
      "outputs": [],
      "source": [
        "def IC_sum_rate(H, p, var_noise):\n",
        "    H = np.square(H)\n",
        "    fr = np.diag(H) * p\n",
        "    ag = np.dot(H, p) + var_noise - fr\n",
        "    y = np.sum(np.log(1 + fr / ag))\n",
        "    return y"
      ]
    },
    {
      "cell_type": "code",
      "execution_count": null,
      "metadata": {
        "id": "04o9KmIeAmDS"
      },
      "outputs": [],
      "source": [
        "def np_sum_rate(X, Y):\n",
        "    avg = 0\n",
        "    n = X.shape[0]\n",
        "    for i in range(n):\n",
        "        avg += IC_sum_rate(X[i, :, :], Y[i, :], 1) / n\n",
        "    return avg"
      ]
    },
    {
      "cell_type": "code",
      "execution_count": null,
      "metadata": {
        "id": "2jX_qNjQAmDS"
      },
      "outputs": [],
      "source": [
        "sum_rate_reg = np_sum_rate(H_test, predicted_power) * np.log2(np.exp(1))\n",
        "sum_rate_swmmse = np_sum_rate(H_test, P_test) * np.log2(np.exp(1))"
      ]
    },
    {
      "cell_type": "code",
      "execution_count": null,
      "metadata": {
        "id": "hOATxFZ0AmDS",
        "outputId": "f2586777-a4a7-4f16-93ab-23fcc28713bd"
      },
      "outputs": [
        {
          "name": "stdout",
          "output_type": "stream",
          "text": [
            "sum rate for regularized cnn 2.759297566008864\n",
            "sum rate for SWMMSE 3.30832598306869\n",
            "accuracy 83.404646%\n",
            "20.304877758026123\n"
          ]
        }
      ],
      "source": [
        "print(\"sum rate for regularized cnn\", sum_rate_reg)\n",
        "print(\"sum rate for SWMMSE\", sum_rate_swmmse)\n",
        "print(\"accuracy %f%%\" % (sum_rate_reg / sum_rate_swmmse * 100))\n",
        "print(swmmsetime)"
      ]
    }
  ],
  "metadata": {
    "kernelspec": {
      "display_name": "Python 3.9.6 64-bit",
      "language": "python",
      "name": "python3"
    },
    "language_info": {
      "codemirror_mode": {
        "name": "ipython",
        "version": 3
      },
      "file_extension": ".py",
      "mimetype": "text/x-python",
      "name": "python",
      "nbconvert_exporter": "python",
      "pygments_lexer": "ipython3",
      "version": "3.9.6"
    },
    "orig_nbformat": 4,
    "vscode": {
      "interpreter": {
        "hash": "31f2aee4e71d21fbe5cf8b01ff0e069b9275f58929596ceb00d14d90e3e16cd6"
      }
    },
    "colab": {
      "provenance": [],
      "include_colab_link": true
    }
  },
  "nbformat": 4,
  "nbformat_minor": 0
}