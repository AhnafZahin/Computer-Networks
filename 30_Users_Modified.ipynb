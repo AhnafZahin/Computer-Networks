{
  "cells": [
    {
      "cell_type": "markdown",
      "metadata": {
        "id": "view-in-github",
        "colab_type": "text"
      },
      "source": [
        "<a href=\"https://colab.research.google.com/github/AhnafZahin/Computer-Networks/blob/main/30_Users_Modified.ipynb\" target=\"_parent\"><img src=\"https://colab.research.google.com/assets/colab-badge.svg\" alt=\"Open In Colab\"/></a>"
      ]
    },
    {
      "cell_type": "code",
      "execution_count": null,
      "metadata": {
        "id": "UmZQ-ng7BEc-"
      },
      "outputs": [],
      "source": [
        "import scipy.io as sio\n",
        "import numpy as np\n",
        "\n",
        "import tensorflow.compat.v1 as tf\n",
        "import time"
      ]
    },
    {
      "cell_type": "code",
      "execution_count": null,
      "metadata": {
        "id": "jWI3ZZs_BEdB",
        "outputId": "7ee9bc1c-ee15-45bb-a69e-dd9e7ac24431"
      },
      "outputs": [
        {
          "name": "stdout",
          "output_type": "stream",
          "text": [
            "WARNING:tensorflow:From /Users/atiab/Library/Python/3.9/lib/python/site-packages/tensorflow/python/compat/v2_compat.py:107: disable_resource_variables (from tensorflow.python.ops.variable_scope) is deprecated and will be removed in a future version.\n",
            "Instructions for updating:\n",
            "non-resource variables are not supported in the long term\n"
          ]
        }
      ],
      "source": [
        "tf.compat.v1.disable_eager_execution()\n",
        "tf.disable_v2_behavior()"
      ]
    },
    {
      "cell_type": "code",
      "execution_count": null,
      "metadata": {
        "id": "kea5aWG5BEdC"
      },
      "outputs": [],
      "source": [
        "N = 30\n",
        "num_train = 100000\n",
        "num_test = 10000\n",
        "epochs = 100\n",
        "batch_size = 256\n",
        "learning_rate = 0.0001"
      ]
    },
    {
      "cell_type": "code",
      "execution_count": null,
      "metadata": {
        "id": "Wyikkn8jBEdC"
      },
      "outputs": [],
      "source": [
        "load = sio.loadmat('data/Train_data_%d_%d.mat' % (N, num_train))\n",
        "loadTest = sio.loadmat('data/Test_data_%d_%d.mat' % (N, num_test))"
      ]
    },
    {
      "cell_type": "code",
      "execution_count": null,
      "metadata": {
        "id": "yQuSuYgPBEdD"
      },
      "outputs": [],
      "source": [
        "Htrain = load['Xtrain']\n",
        "Ptrain = load['Ytrain']\n",
        "H_test = loadTest['X']\n",
        "P_test = loadTest['Y']\n",
        "timeW = loadTest['swmmsetime']\n",
        "swmmsetime = timeW[0, 0]"
      ]
    },
    {
      "cell_type": "code",
      "execution_count": null,
      "metadata": {
        "id": "v6XZhWWOBEdD"
      },
      "outputs": [],
      "source": [
        "weights = {\n",
        "    \"w_1\": tf.Variable(tf.random_normal([N * N, 100], stddev=0.1)),\n",
        "    \"w_2\": tf.Variable(tf.random_normal([100, 100], stddev=0.1)),\n",
        "    \"w_3\": tf.Variable(tf.random_normal([100, 100], stddev=0.1)),\n",
        "    \"w_4\": tf.Variable(tf.random_normal([100, 100], stddev=0.1)),\n",
        "    \"w_out\": tf.Variable(tf.random_normal([100, N])),\n",
        "}"
      ]
    },
    {
      "cell_type": "code",
      "execution_count": null,
      "metadata": {
        "id": "I9FXmN4DBEdD"
      },
      "outputs": [],
      "source": [
        "biases = {\n",
        "    \"b_1\": tf.Variable(tf.random_normal([100], stddev=0.1)),\n",
        "    \"b_2\": tf.Variable(tf.random_normal([100], stddev=0.1)),\n",
        "    \"b_3\": tf.Variable(tf.random_normal([100], stddev=0.1)),\n",
        "    \"b_4\": tf.Variable(tf.random_normal([100], stddev=0.1)),\n",
        "    \"b_out\": tf.Variable(tf.random_normal([N])),\n",
        "}"
      ]
    },
    {
      "cell_type": "code",
      "execution_count": null,
      "metadata": {
        "id": "SH2UJ91zBEdE"
      },
      "outputs": [],
      "source": [
        "def network(input_data):\n",
        "    x = tf.nn.dropout(x, tf.placeholder(tf.float32))\n",
        "\n",
        "    conv1 = tf.nn.conv2d(input, weights['1_1'], strides=[1, 1, 1, 1], padding='SAME')\n",
        "    conv1 = tf.nn.bias_add(conv1, biases['b_1'])\n",
        "    relu1 = tf.nn.relu(conv1)\n",
        "\n",
        "    h_layer_1 = tf.add(\n",
        "        tf.matmul(input_data, weights[\"w_1\"]), biases[\"b_1\"]\n",
        "    )  # h1 = wx+b\n",
        "    h_layer_1 = tf.nn.relu(h_layer_1)\n",
        "\n",
        "    conv2 = tf.nn.conv2d(relu1, weights['w_2'], strides=[1, 1, 1, 1], padding='SAME')\n",
        "    conv2 = tf.nn.bias_add(conv2, biases['b_2'])\n",
        "    relu2 = tf.nn.relu(conv2)\n",
        "\n",
        "    h_layer_2 = tf.add(tf.matmul(h_layer_1, weights[\"w_2\"]), biases[\"b_1\"])\n",
        "    h_layer_2 = tf.nn.relu(h_layer_2)\n",
        "\n",
        "    conv3 = tf.nn.conv2d(relu2, weights['w_3'], strides=[1, 1, 1, 1], padding='SAME')\n",
        "    conv3 = tf.nn.bias_add(conv3, biases['b_3'])\n",
        "    relu3 = tf.nn.relu(conv3)\n",
        "\n",
        "    h_layer_3 = tf.add(tf.matmul(h_layer_2, weights[\"w_3\"]), biases[\"b_3\"])\n",
        "    h_layer_3 = tf.nn.relu(h_layer_3)\n",
        "\n",
        "    conv4 = tf.nn.conv2d(relu3, weights['w_4'], strides=[1, 1, 1, 1], padding='SAME')\n",
        "    conv4 = tf.nn.bias_add(conv4, biases['b_4'])\n",
        "    relu4 = tf.nn.relu(conv4)\n",
        "\n",
        "    output = tf.matmul(h_layer_3, weights[\"w_out\"]) + biases[\"b_out\"]\n",
        "    output = tf.nn.relu6(output) / 6\n",
        "\n",
        "    return output"
      ]
    },
    {
      "cell_type": "code",
      "execution_count": null,
      "metadata": {
        "id": "-XwQMKe9BEdE"
      },
      "outputs": [],
      "source": [
        "valid_split = 0.1\n",
        "\n",
        "total_sample_size = num_train\n",
        "validation_sample_size = int(total_sample_size * valid_split)\n",
        "training_sample_size = total_sample_size - validation_sample_size"
      ]
    },
    {
      "cell_type": "code",
      "execution_count": null,
      "metadata": {
        "id": "_prFLAuhBEdE"
      },
      "outputs": [],
      "source": [
        "Htrain = np.reshape(Htrain, (total_sample_size, N * N))\n",
        "number_input = N * N\n",
        "number_output = N\n",
        "\n",
        "H_train = Htrain[0:training_sample_size, :]\n",
        "P_train = Ptrain[0:training_sample_size, :]\n",
        "H_val = Htrain[training_sample_size:total_sample_size, :]\n",
        "P_val = Ptrain[training_sample_size:total_sample_size, :]"
      ]
    },
    {
      "cell_type": "code",
      "execution_count": null,
      "metadata": {
        "id": "hejoFLS3BEdF"
      },
      "outputs": [],
      "source": [
        "x = tf.placeholder(tf.float32, [None, N * N])\n",
        "y = tf.placeholder(tf.float32, [None, N])"
      ]
    },
    {
      "cell_type": "code",
      "execution_count": null,
      "metadata": {
        "id": "unWlV3_zBEdF"
      },
      "outputs": [],
      "source": [
        "total_batch = int(total_sample_size / batch_size)"
      ]
    },
    {
      "cell_type": "code",
      "execution_count": null,
      "metadata": {
        "id": "HZBH7bfnBEdF"
      },
      "outputs": [],
      "source": [
        "x_bar = network(x)\n",
        "loss = tf.reduce_mean(tf.square(x_bar - y))\n",
        "\n",
        "optimizer = tf.train.AdamOptimizer(learning_rate)\n",
        "objective = optimizer.minimize(loss)"
      ]
    },
    {
      "cell_type": "code",
      "execution_count": null,
      "metadata": {
        "id": "niyHckUBBEdF",
        "outputId": "43e534f0-6810-4b09-a966-abff3165477f"
      },
      "outputs": [
        {
          "name": "stderr",
          "output_type": "stream",
          "text": [
            "2022-11-21 03:18:10.634797: I tensorflow/compiler/mlir/mlir_graph_optimization_pass.cc:354] MLIR V1 optimization pass is not enabled\n"
          ]
        }
      ],
      "source": [
        "save_data = np.zeros((epochs, 3))\n",
        "\n",
        "session = tf.InteractiveSession()\n",
        "tf.global_variables_initializer().run()"
      ]
    },
    {
      "cell_type": "code",
      "execution_count": null,
      "metadata": {
        "id": "WR5ZOpvrBEdF",
        "outputId": "bfdb4152-bc2b-40cb-c39b-66f6bece1995"
      },
      "outputs": [
        {
          "name": "stdout",
          "output_type": "stream",
          "text": [
            "\n",
            " 0   0.205255   0.207735   1.026931 \n",
            "#\n",
            " 2   0.195623   0.199687   3.000301 \n",
            "#\n",
            " 4   0.199678   0.198215   5.093970 \n",
            "#\n",
            " 6   0.193077   0.196855   7.540603 \n",
            "#\n",
            " 8   0.195275   0.194921   9.675795 \n",
            "#\n",
            " 10   0.187354   0.190033   11.990618 \n",
            "#\n",
            " 12   0.181279   0.185409   14.058014 \n",
            "#\n",
            " 14   0.177716   0.180364   16.160990 \n",
            "#\n",
            " 16   0.173750   0.174973   18.288111 \n",
            "#\n",
            " 18   0.168933   0.168455   20.378463 \n",
            "#\n",
            " 20   0.162099   0.162739   22.464765 \n",
            "#\n",
            " 22   0.160471   0.157330   24.556264 \n",
            "#\n",
            " 24   0.148876   0.152783   26.654281 \n",
            "#\n",
            " 26   0.144634   0.148850   28.750501 \n",
            "#\n",
            " 28   0.138374   0.145330   30.848793 \n",
            "#\n",
            " 30   0.145056   0.142179   32.952494 \n",
            "#\n",
            " 32   0.135358   0.139475   35.143057 \n",
            "#\n",
            " 34   0.132651   0.136959   37.273400 \n",
            "#\n",
            " 36   0.133581   0.134789   39.382010 \n",
            "#\n",
            " 38   0.130478   0.132565   41.481477 \n",
            "#\n",
            " 40   0.133084   0.130537   43.584486 \n",
            "#\n",
            " 42   0.129146   0.128955   45.688159 \n",
            "#\n",
            " 44   0.131409   0.127203   47.816198 \n",
            "#\n",
            " 46   0.120472   0.125892   49.930294 \n",
            "#\n",
            " 48   0.121077   0.124741   52.065753 \n",
            "#\n",
            " 50   0.122190   0.123681   54.169140 \n",
            "#\n",
            " 52   0.120253   0.122573   56.273724 \n",
            "#\n",
            " 54   0.118704   0.121922   58.395567 \n",
            "#\n",
            " 56   0.121052   0.121127   60.494645 \n",
            "#\n",
            " 58   0.122926   0.120646   62.629985 \n",
            "#\n",
            " 60   0.116389   0.120361   64.762931 \n",
            "#\n",
            " 62   0.119609   0.120020   66.891811 \n",
            "#\n",
            " 64   0.113224   0.119641   69.026504 \n",
            "#\n",
            " 66   0.122811   0.119549   71.169828 \n",
            "#\n",
            " 68   0.120568   0.119332   73.301973 \n",
            "#\n",
            " 70   0.113619   0.119129   75.434729 \n",
            "#\n",
            " 72   0.117185   0.118912   77.576471 \n",
            "#\n",
            " 74   0.113099   0.118919   79.720094 \n",
            "#\n",
            " 76   0.109654   0.119041   81.858859 \n",
            "#\n",
            " 78   0.115857   0.118688   84.004865 \n",
            "#\n",
            " 80   0.112524   0.118869   86.149235 \n",
            "#\n",
            " 82   0.116178   0.118655   88.292292 \n",
            "#\n",
            " 84   0.115137   0.118561   90.431382 \n",
            "#\n",
            " 86   0.111479   0.118555   92.561520 \n",
            "#\n",
            " 88   0.115805   0.118503   94.701325 \n",
            "#\n",
            " 90   0.113481   0.118490   96.870909 \n",
            "#\n",
            " 92   0.119045   0.118264   99.008602 \n",
            "#\n",
            " 94   0.117317   0.118314   101.179508 \n",
            "#\n",
            " 96   0.114285   0.118347   103.310368 \n",
            "#\n",
            " 98   0.111927   0.118047   105.438961 \n",
            "#training time: 106.50 s\n"
          ]
        }
      ],
      "source": [
        "start_time = time.time()\n",
        "for e in range(epochs):\n",
        "    for b in range(total_batch):\n",
        "        batch = np.random.randint(training_sample_size, size=batch_size)\n",
        "        _, training_cost = session.run(\n",
        "            [objective, loss], feed_dict={x: H_train[batch, :], y: P_train[batch, :]}\n",
        "        )\n",
        "        save_data[e, 0] = training_cost\n",
        "    validation_cost = session.run(loss, feed_dict={x: H_val, y: P_val})\n",
        "    save_data[e, 1] = validation_cost\n",
        "    save_data[e, 2] = e\n",
        "    if e % 2 == 0:\n",
        "        print(\n",
        "            \"\\n %d \" % e,\n",
        "            \" %f \" % (training_cost),\n",
        "            \" %f \" % (validation_cost),\n",
        "            \" %f \" % (time.time() - start_time),\n",
        "        )\n",
        "    else:\n",
        "        print(\"#\", end=\"\")\n",
        "print(\"training time: %0.2f s\" % (time.time() - start_time))\n",
        "sio.savemat(\n",
        "    \"MSETime_%d_%d_%d\" % (N, batch_size, learning_rate * 10000),\n",
        "    {\"train\": save_data[:, 0], \"validation\": save_data[:, 1], \"epoch\": save_data[:, 2]},\n",
        ")"
      ]
    },
    {
      "cell_type": "code",
      "execution_count": null,
      "metadata": {
        "id": "Z4aAVCxABEdF",
        "outputId": "c5867d72-461a-4bf0-b6f2-54b60efc859f"
      },
      "outputs": [
        {
          "name": "stdout",
          "output_type": "stream",
          "text": [
            "(10000, 30)\n"
          ]
        }
      ],
      "source": [
        "start_time = time.time()\n",
        "H_test_r = np.reshape(H_test, (num_test, N * N))\n",
        "predicted_power = session.run(x_bar, feed_dict={x: H_test_r, y: P_test})\n",
        "pred_time = time.time() - start_time\n",
        "print(predicted_power.shape)\n",
        "predicted_power = np.reshape(predicted_power, (num_test, N))\n"
      ]
    },
    {
      "cell_type": "code",
      "execution_count": null,
      "metadata": {
        "id": "KqBHHDK2BEdG"
      },
      "outputs": [],
      "source": [
        "def IC_sum_rate(H, p, var_noise):\n",
        "    H = np.square(H)\n",
        "    fr = np.diag(H) * p\n",
        "    ag = np.dot(H, p) + var_noise - fr\n",
        "    y = np.sum(np.log(1 + fr / ag))\n",
        "    return y"
      ]
    },
    {
      "cell_type": "code",
      "execution_count": null,
      "metadata": {
        "id": "xT0mvxnMBEdG"
      },
      "outputs": [],
      "source": [
        "def np_sum_rate(X, Y):\n",
        "    avg = 0\n",
        "    n = X.shape[0]\n",
        "    for i in range(n):\n",
        "        avg += IC_sum_rate(X[i, :, :], Y[i, :], 1) / n\n",
        "    return avg"
      ]
    },
    {
      "cell_type": "code",
      "execution_count": null,
      "metadata": {
        "id": "C7qNJ9zKBEdG"
      },
      "outputs": [],
      "source": [
        "sum_rate_reg = np_sum_rate(H_test, predicted_power) * np.log2(np.exp(1))\n",
        "sum_rate_swmmse = np_sum_rate(H_test, P_test) * np.log2(np.exp(1))"
      ]
    },
    {
      "cell_type": "code",
      "execution_count": null,
      "metadata": {
        "id": "2cyVN_s1BEdG",
        "outputId": "5dc61b04-0317-4e6d-d5bb-da6024c9a527"
      },
      "outputs": [
        {
          "name": "stdout",
          "output_type": "stream",
          "text": [
            "sum rate for regularized cnn 2.6862873670068956\n",
            "sum rate for SWMMSE 3.6613913907217133\n",
            "accuracy 89.367938%\n",
            "41.58839774131775\n"
          ]
        }
      ],
      "source": [
        "print(\"sum rate for regularized cnn\", sum_rate_reg)\n",
        "print(\"sum rate for SWMMSE\", sum_rate_swmmse)\n",
        "print(\"accuracy %f%%\" % (sum_rate_reg / sum_rate_swmmse * 100, pred_time))\n",
        "print(swmmsetime)"
      ]
    }
  ],
  "metadata": {
    "kernelspec": {
      "display_name": "Python 3.9.6 64-bit",
      "language": "python",
      "name": "python3"
    },
    "language_info": {
      "codemirror_mode": {
        "name": "ipython",
        "version": 3
      },
      "file_extension": ".py",
      "mimetype": "text/x-python",
      "name": "python",
      "nbconvert_exporter": "python",
      "pygments_lexer": "ipython3",
      "version": "3.9.6"
    },
    "orig_nbformat": 4,
    "vscode": {
      "interpreter": {
        "hash": "31f2aee4e71d21fbe5cf8b01ff0e069b9275f58929596ceb00d14d90e3e16cd6"
      }
    },
    "colab": {
      "provenance": [],
      "include_colab_link": true
    }
  },
  "nbformat": 4,
  "nbformat_minor": 0
}