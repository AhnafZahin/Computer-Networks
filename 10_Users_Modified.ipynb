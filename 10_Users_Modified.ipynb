{
  "cells": [
    {
      "cell_type": "markdown",
      "metadata": {
        "id": "view-in-github",
        "colab_type": "text"
      },
      "source": [
        "<a href=\"https://colab.research.google.com/github/AhnafZahin/Computer-Networks/blob/main/10_Users_Modified.ipynb\" target=\"_parent\"><img src=\"https://colab.research.google.com/assets/colab-badge.svg\" alt=\"Open In Colab\"/></a>"
      ]
    },
    {
      "cell_type": "code",
      "execution_count": null,
      "metadata": {
        "id": "m4R1Gwvx5y2t"
      },
      "outputs": [],
      "source": [
        "import scipy.io as sio\n",
        "import numpy as np\n",
        "\n",
        "import tensorflow.compat.v1 as tf\n",
        "import time"
      ]
    },
    {
      "cell_type": "code",
      "execution_count": null,
      "metadata": {
        "id": "xLhgD0vQ5y22",
        "outputId": "ce62542e-f333-4283-9527-812ff34abe33"
      },
      "outputs": [
        {
          "name": "stdout",
          "output_type": "stream",
          "text": [
            "WARNING:tensorflow:From /Users/atiab/Library/Python/3.9/lib/python/site-packages/tensorflow/python/compat/v2_compat.py:107: disable_resource_variables (from tensorflow.python.ops.variable_scope) is deprecated and will be removed in a future version.\n",
            "Instructions for updating:\n",
            "non-resource variables are not supported in the long term\n"
          ]
        }
      ],
      "source": [
        "tf.compat.v1.disable_eager_execution()\n",
        "tf.disable_v2_behavior()"
      ]
    },
    {
      "cell_type": "code",
      "execution_count": null,
      "metadata": {
        "id": "UjzoaAK25y26"
      },
      "outputs": [],
      "source": [
        "N = 10\n",
        "num_train = 100000\n",
        "num_test = 10000\n",
        "epochs = 100\n",
        "batch_size = 256\n",
        "learning_rate = 0.0001"
      ]
    },
    {
      "cell_type": "code",
      "execution_count": null,
      "metadata": {
        "id": "zgddBy985y28"
      },
      "outputs": [],
      "source": [
        "load = sio.loadmat('data/Train_data_%d_%d.mat' % (N, num_train))\n",
        "loadTest = sio.loadmat('data/Test_data_%d_%d.mat' % (N, num_test))"
      ]
    },
    {
      "cell_type": "code",
      "execution_count": null,
      "metadata": {
        "id": "m8DdCwsZ5y2-"
      },
      "outputs": [],
      "source": [
        "Htrain = load['Xtrain']\n",
        "Ptrain = load['Ytrain']\n",
        "H_test = loadTest['X']\n",
        "P_test = loadTest['Y']\n",
        "timeW = loadTest['swmmsetime']\n",
        "swmmsetime = timeW[0, 0]"
      ]
    },
    {
      "cell_type": "code",
      "execution_count": null,
      "metadata": {
        "id": "_fQFMxCx5y2_"
      },
      "outputs": [],
      "source": [
        "weights = {\n",
        "    \"w_1\": tf.Variable(tf.random_normal([N * N, 100], stddev=0.1)),\n",
        "    \"w_2\": tf.Variable(tf.random_normal([100, 100], stddev=0.1)),\n",
        "    \"w_3\": tf.Variable(tf.random_normal([100, 100], stddev=0.1)),\n",
        "    \"w_4\": tf.Variable(tf.random_normal([100, 100], stddev=0.1)),\n",
        "    \"w_out\": tf.Variable(tf.random_normal([100, N])),\n",
        "}"
      ]
    },
    {
      "cell_type": "code",
      "execution_count": null,
      "metadata": {
        "id": "pLJpUgh_5y3B"
      },
      "outputs": [],
      "source": [
        "biases = {\n",
        "    \"b_1\": tf.Variable(tf.random_normal([100], stddev=0.1)),\n",
        "    \"b_2\": tf.Variable(tf.random_normal([100], stddev=0.1)),\n",
        "    \"b_3\": tf.Variable(tf.random_normal([100], stddev=0.1)),\n",
        "    \"b_4\": tf.Variable(tf.random_normal([100], stddev=0.1)),\n",
        "    \"b_out\": tf.Variable(tf.random_normal([N])),\n",
        "}"
      ]
    },
    {
      "cell_type": "code",
      "execution_count": null,
      "metadata": {
        "id": "TyFo4InW5y3D"
      },
      "outputs": [],
      "source": [
        "def network(input_data):\n",
        "    x = tf.nn.dropout(x, tf.placeholder(tf.float32))\n",
        "\n",
        "    conv1 = tf.nn.conv2d(input, weights['1_1'], strides=[1, 1, 1, 1], padding='SAME')\n",
        "    conv1 = tf.nn.bias_add(conv1, biases['b_1'])\n",
        "    relu1 = tf.nn.relu(conv1)\n",
        "\n",
        "    h_layer_1 = tf.add(\n",
        "        tf.matmul(input_data, weights[\"w_1\"]), biases[\"b_1\"]\n",
        "    )  # h1 = wx+b\n",
        "    h_layer_1 = tf.nn.relu(h_layer_1)\n",
        "\n",
        "    conv2 = tf.nn.conv2d(relu1, weights['w_2'], strides=[1, 1, 1, 1], padding='SAME')\n",
        "    conv2 = tf.nn.bias_add(conv2, biases['b_2'])\n",
        "    relu2 = tf.nn.relu(conv2)\n",
        "\n",
        "    h_layer_2 = tf.add(tf.matmul(h_layer_1, weights[\"w_2\"]), biases[\"b_1\"])\n",
        "    h_layer_2 = tf.nn.relu(h_layer_2)\n",
        "\n",
        "    conv3 = tf.nn.conv2d(relu2, weights['w_3'], strides=[1, 1, 1, 1], padding='SAME')\n",
        "    conv3 = tf.nn.bias_add(conv3, biases['b_3'])\n",
        "    relu3 = tf.nn.relu(conv3)\n",
        "\n",
        "    h_layer_3 = tf.add(tf.matmul(h_layer_2, weights[\"w_3\"]), biases[\"b_3\"])\n",
        "    h_layer_3 = tf.nn.relu(h_layer_3)\n",
        "\n",
        "    conv4 = tf.nn.conv2d(relu3, weights['w_4'], strides=[1, 1, 1, 1], padding='SAME')\n",
        "    conv4 = tf.nn.bias_add(conv4, biases['b_4'])\n",
        "    relu4 = tf.nn.relu(conv4)\n",
        "\n",
        "    output = tf.matmul(h_layer_3, weights[\"w_out\"]) + biases[\"b_out\"]\n",
        "    output = tf.nn.relu6(output) / 6\n",
        "\n",
        "    return output"
      ]
    },
    {
      "cell_type": "code",
      "execution_count": null,
      "metadata": {
        "id": "5QOzPREh5y3F"
      },
      "outputs": [],
      "source": [
        "valid_split = 0.1\n",
        "\n",
        "total_sample_size = num_train\n",
        "validation_sample_size = int(total_sample_size * valid_split)\n",
        "training_sample_size = total_sample_size - validation_sample_size"
      ]
    },
    {
      "cell_type": "code",
      "execution_count": null,
      "metadata": {
        "id": "UMSDkS2y5y3H"
      },
      "outputs": [],
      "source": [
        "Htrain = np.reshape(Htrain, (total_sample_size, N * N))\n",
        "number_input = N * N\n",
        "number_output = N\n",
        "\n",
        "H_train = Htrain[0:training_sample_size, :]\n",
        "P_train = Ptrain[0:training_sample_size, :]\n",
        "H_val = Htrain[training_sample_size:total_sample_size, :]\n",
        "P_val = Ptrain[training_sample_size:total_sample_size, :]"
      ]
    },
    {
      "cell_type": "code",
      "execution_count": null,
      "metadata": {
        "id": "2kYTlsnX5y3O"
      },
      "outputs": [],
      "source": [
        "x = tf.placeholder(tf.float32, [None, N * N])\n",
        "y = tf.placeholder(tf.float32, [None, N])"
      ]
    },
    {
      "cell_type": "code",
      "execution_count": null,
      "metadata": {
        "id": "Yio5zGEB5y3O"
      },
      "outputs": [],
      "source": [
        "total_batch = int(total_sample_size / batch_size)"
      ]
    },
    {
      "cell_type": "code",
      "execution_count": null,
      "metadata": {
        "id": "IZaieZl15y3P"
      },
      "outputs": [],
      "source": [
        "x_bar = network(x)\n",
        "loss = tf.reduce_mean(tf.square(x_bar - y))\n",
        "\n",
        "optimizer = tf.train.AdamOptimizer(learning_rate)\n",
        "objective = optimizer.minimize(loss)"
      ]
    },
    {
      "cell_type": "code",
      "execution_count": null,
      "metadata": {
        "id": "xKOY-oJ95y3Q",
        "outputId": "b3223324-68fd-4306-924b-614c89018718"
      },
      "outputs": [
        {
          "name": "stderr",
          "output_type": "stream",
          "text": [
            "2022-11-20 19:52:24.639442: I tensorflow/compiler/mlir/mlir_graph_optimization_pass.cc:354] MLIR V1 optimization pass is not enabled\n"
          ]
        }
      ],
      "source": [
        "save_data = np.zeros((epochs, 3))\n",
        "\n",
        "session = tf.InteractiveSession()\n",
        "tf.global_variables_initializer().run()"
      ]
    },
    {
      "cell_type": "code",
      "execution_count": null,
      "metadata": {
        "id": "eCzOV88x5y3R",
        "outputId": "df1698ac-4613-44f0-a405-31522ad6dd7a"
      },
      "outputs": [
        {
          "name": "stdout",
          "output_type": "stream",
          "text": [
            "\n",
            " 0   0.166241   0.167453   0.553056 \n",
            "#\n",
            " 2   0.077305   0.078712   1.800498 \n",
            "#\n",
            " 4   0.065804   0.066919   3.238195 \n",
            "#\n",
            " 6   0.066149   0.065561   4.619155 \n",
            "#\n",
            " 8   0.070018   0.064752   6.170786 \n",
            "#\n",
            " 10   0.063415   0.064509   7.652471 \n",
            "#\n",
            " 12   0.057866   0.063988   8.976901 \n",
            "#\n",
            " 14   0.061716   0.064735   10.274272 \n",
            "#\n",
            " 16   0.063122   0.063957   11.566386 \n",
            "#\n",
            " 18   0.061003   0.064309   12.867814 \n",
            "#\n",
            " 20   0.064910   0.063915   14.176314 \n",
            "#\n",
            " 22   0.069103   0.064248   15.478377 \n",
            "#\n",
            " 24   0.067858   0.063933   16.799587 \n",
            "#\n",
            " 26   0.065324   0.063513   18.206083 \n",
            "#\n",
            " 28   0.063122   0.063287   19.599008 \n",
            "#\n",
            " 30   0.061661   0.063480   20.941553 \n",
            "#\n",
            " 32   0.062936   0.063255   22.319263 \n",
            "#\n",
            " 34   0.059549   0.063086   23.738479 \n",
            "#\n",
            " 36   0.060656   0.062790   25.086898 \n",
            "#\n",
            " 38   0.055588   0.062623   26.405794 \n",
            "#\n",
            " 40   0.059540   0.062824   27.720677 \n",
            "#\n",
            " 42   0.060565   0.062893   29.075211 \n",
            "#\n",
            " 44   0.061195   0.062057   30.417854 \n",
            "#\n",
            " 46   0.063739   0.062096   31.795070 \n",
            "#\n",
            " 48   0.056876   0.061559   33.111807 \n",
            "#\n",
            " 50   0.056247   0.061572   34.434709 \n",
            "#\n",
            " 52   0.056345   0.061421   35.829692 \n",
            "#\n",
            " 54   0.061206   0.060818   37.171382 \n",
            "#\n",
            " 56   0.055064   0.061156   38.484109 \n",
            "#\n",
            " 58   0.060691   0.060942   39.818145 \n",
            "#\n",
            " 60   0.056819   0.060366   41.154970 \n",
            "#\n",
            " 62   0.052484   0.060183   42.505102 \n",
            "#\n",
            " 64   0.057830   0.060001   43.845818 \n",
            "#\n",
            " 66   0.057918   0.059891   45.200495 \n",
            "#\n",
            " 68   0.055283   0.059679   46.547563 \n",
            "#\n",
            " 70   0.057010   0.059315   47.889992 \n",
            "#\n",
            " 72   0.054961   0.059121   49.237678 \n",
            "#\n",
            " 74   0.062825   0.059266   50.579292 \n",
            "#\n",
            " 76   0.055418   0.059007   51.927957 \n",
            "#\n",
            " 78   0.054621   0.058661   53.268852 \n",
            "#\n",
            " 80   0.054564   0.058086   54.612220 \n",
            "#\n",
            " 82   0.054369   0.057685   55.964499 \n",
            "#\n",
            " 84   0.048715   0.057727   57.309331 \n",
            "#\n",
            " 86   0.053204   0.057190   58.645718 \n",
            "#\n",
            " 88   0.055782   0.057171   59.994149 \n",
            "#\n",
            " 90   0.054649   0.056735   61.336614 \n",
            "#\n",
            " 92   0.053219   0.056698   62.689734 \n",
            "#\n",
            " 94   0.052217   0.056066   64.033453 \n",
            "#\n",
            " 96   0.053584   0.056298   65.376156 \n",
            "#\n",
            " 98   0.057084   0.055582   66.738248 \n",
            "#training time: 67.41 s\n"
          ]
        }
      ],
      "source": [
        "start_time = time.time()\n",
        "for e in range(epochs):\n",
        "    for b in range(total_batch):\n",
        "        batch = np.random.randint(training_sample_size, size=batch_size)\n",
        "        _, training_cost = session.run(\n",
        "            [objective, loss], feed_dict={x: H_train[batch, :], y: P_train[batch, :]}\n",
        "        )\n",
        "        save_data[e, 0] = training_cost\n",
        "    validation_cost = session.run(loss, feed_dict={x: H_val, y: P_val})\n",
        "    save_data[e, 1] = validation_cost\n",
        "    save_data[e, 2] = e\n",
        "    if e % 2 == 0:\n",
        "        print(\n",
        "            \"\\n %d \" % e,\n",
        "            \" %f \" % (training_cost),\n",
        "            \" %f \" % (validation_cost),\n",
        "            \" %f \" % (time.time() - start_time),\n",
        "        )\n",
        "    else:\n",
        "        print(\"#\", end=\"\")\n",
        "print(\"training time: %0.2f s\" % (time.time() - start_time))\n",
        "sio.savemat(\n",
        "    \"MSETime_%d_%d_%d\" % (N, batch_size, learning_rate * 10000),\n",
        "    {\"train\": save_data[:, 0], \"validation\": save_data[:, 1], \"epoch\": save_data[:, 2]},\n",
        ")"
      ]
    },
    {
      "cell_type": "code",
      "execution_count": null,
      "metadata": {
        "id": "hMi7-yBP5y3S",
        "outputId": "f140203f-289f-4c03-f57f-95736cc35379"
      },
      "outputs": [
        {
          "name": "stdout",
          "output_type": "stream",
          "text": [
            "(10000, 10)\n"
          ]
        }
      ],
      "source": [
        "start_time = time.time()\n",
        "H_test_r = np.reshape(H_test, (num_test, N * N))\n",
        "predicted_power = session.run(x_bar, feed_dict={x: H_test_r, y: P_test})\n",
        "pred_time = time.time() - start_time\n",
        "print(predicted_power.shape)\n",
        "predicted_power = np.reshape(predicted_power, (num_test, N))\n"
      ]
    },
    {
      "cell_type": "code",
      "execution_count": null,
      "metadata": {
        "id": "yRbLLF2B5y3T"
      },
      "outputs": [],
      "source": [
        "def IC_sum_rate(H, p, var_noise):\n",
        "    H = np.square(H)\n",
        "    fr = np.diag(H) * p\n",
        "    ag = np.dot(H, p) + var_noise - fr\n",
        "    y = np.sum(np.log(1 + fr / ag))\n",
        "    return y"
      ]
    },
    {
      "cell_type": "code",
      "execution_count": null,
      "metadata": {
        "id": "fjIAZBfQ5y3U"
      },
      "outputs": [],
      "source": [
        "def np_sum_rate(X, Y):\n",
        "    avg = 0\n",
        "    n = X.shape[0]\n",
        "    for i in range(n):\n",
        "        avg += IC_sum_rate(X[i, :, :], Y[i, :], 1) / n\n",
        "    return avg"
      ]
    },
    {
      "cell_type": "code",
      "execution_count": null,
      "metadata": {
        "id": "q7oXpCjE5y3V"
      },
      "outputs": [],
      "source": [
        "sum_rate_reg = np_sum_rate(H_test, predicted_power) * np.log2(np.exp(1))\n",
        "sum_rate_swmmse = np_sum_rate(H_test, P_test) * np.log2(np.exp(1))"
      ]
    },
    {
      "cell_type": "code",
      "execution_count": null,
      "metadata": {
        "id": "qzL-58KM5y3V",
        "outputId": "0ac31867-5928-401d-8a3b-56726ccecdd7"
      },
      "outputs": [
        {
          "name": "stdout",
          "output_type": "stream",
          "text": [
            "sum rate for regularized cnn 2.404347158001954\n",
            "sum rate for SWMMSE 2.675864821168107\n",
            "accuracy 82.853087%\n",
            "5.9626994132995605\n"
          ]
        }
      ],
      "source": [
        "print(\"sum rate for regularized cnn\", sum_rate_reg)\n",
        "print(\"sum rate for SWMMSE\", sum_rate_swmmse)\n",
        "print(\"accuracy %f%%\" % (sum_rate_reg / sum_rate_swmmse * 100))\n",
        "print(swmmsetime)"
      ]
    }
  ],
  "metadata": {
    "kernelspec": {
      "display_name": "Python 3.9.6 64-bit",
      "language": "python",
      "name": "python3"
    },
    "language_info": {
      "codemirror_mode": {
        "name": "ipython",
        "version": 3
      },
      "file_extension": ".py",
      "mimetype": "text/x-python",
      "name": "python",
      "nbconvert_exporter": "python",
      "pygments_lexer": "ipython3",
      "version": "3.9.6"
    },
    "orig_nbformat": 4,
    "vscode": {
      "interpreter": {
        "hash": "31f2aee4e71d21fbe5cf8b01ff0e069b9275f58929596ceb00d14d90e3e16cd6"
      }
    },
    "colab": {
      "provenance": [],
      "include_colab_link": true
    }
  },
  "nbformat": 4,
  "nbformat_minor": 0
}